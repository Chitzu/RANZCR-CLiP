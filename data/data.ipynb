{
 "cells": [
  {
   "cell_type": "code",
   "execution_count": 25,
   "metadata": {
    "collapsed": true
   },
   "outputs": [],
   "source": [
    "import pandas as pd\n",
    "import numpy as np"
   ]
  },
  {
   "cell_type": "code",
   "execution_count": 3,
   "outputs": [],
   "source": [
    "data = pd.read_csv('train.csv')"
   ],
   "metadata": {
    "collapsed": false
   }
  },
  {
   "cell_type": "code",
   "execution_count": 4,
   "outputs": [
    {
     "data": {
      "text/plain": "                                        StudyInstanceUID  ETT - Abnormal   \n0      1.2.826.0.1.3680043.8.498.26697628953273228189...               0  \\\n1      1.2.826.0.1.3680043.8.498.46302891597398758759...               0   \n2      1.2.826.0.1.3680043.8.498.23819260719748494858...               0   \n3      1.2.826.0.1.3680043.8.498.68286643202323212801...               0   \n4      1.2.826.0.1.3680043.8.498.10050203009225938259...               0   \n...                                                  ...             ...   \n30078  1.2.826.0.1.3680043.8.498.74257566841157531124...               0   \n30079  1.2.826.0.1.3680043.8.498.46510939987173529969...               0   \n30080  1.2.826.0.1.3680043.8.498.43173270582850645437...               0   \n30081  1.2.826.0.1.3680043.8.498.95092491950130838685...               0   \n30082  1.2.826.0.1.3680043.8.498.99518162226171269731...               0   \n\n       ETT - Borderline  ETT - Normal  NGT - Abnormal  NGT - Borderline   \n0                     0             0               0                 0  \\\n1                     0             1               0                 0   \n2                     0             0               0                 0   \n3                     0             0               0                 0   \n4                     0             0               0                 0   \n...                 ...           ...             ...               ...   \n30078                 0             1               0                 0   \n30079                 0             0               0                 0   \n30080                 0             1               0                 0   \n30081                 0             0               0                 0   \n30082                 0             1               0                 0   \n\n       NGT - Incompletely Imaged  NGT - Normal  CVC - Abnormal   \n0                              0             1               0  \\\n1                              1             0               0   \n2                              0             0               0   \n3                              0             0               1   \n4                              0             0               0   \n...                          ...           ...             ...   \n30078                          0             0               0   \n30079                          0             0               0   \n30080                          1             0               1   \n30081                          0             0               0   \n30082                          0             0               0   \n\n       CVC - Borderline  CVC - Normal  Swan Ganz Catheter Present  PatientID  \n0                     0             0                           0  ec89415d1  \n1                     0             1                           0  bf4c6da3c  \n2                     1             0                           0  3fc1c97e5  \n3                     0             0                           0  c31019814  \n4                     0             1                           0  207685cd1  \n...                 ...           ...                         ...        ...  \n30078                 1             1                           0  5b5b9ac30  \n30079                 0             1                           0  7192404d8  \n30080                 0             1                           0  d4d1b066d  \n30081                 1             0                           0  01a6602b8  \n30082                 0             1                           0  e692d316c  \n\n[30083 rows x 13 columns]",
      "text/html": "<div>\n<style scoped>\n    .dataframe tbody tr th:only-of-type {\n        vertical-align: middle;\n    }\n\n    .dataframe tbody tr th {\n        vertical-align: top;\n    }\n\n    .dataframe thead th {\n        text-align: right;\n    }\n</style>\n<table border=\"1\" class=\"dataframe\">\n  <thead>\n    <tr style=\"text-align: right;\">\n      <th></th>\n      <th>StudyInstanceUID</th>\n      <th>ETT - Abnormal</th>\n      <th>ETT - Borderline</th>\n      <th>ETT - Normal</th>\n      <th>NGT - Abnormal</th>\n      <th>NGT - Borderline</th>\n      <th>NGT - Incompletely Imaged</th>\n      <th>NGT - Normal</th>\n      <th>CVC - Abnormal</th>\n      <th>CVC - Borderline</th>\n      <th>CVC - Normal</th>\n      <th>Swan Ganz Catheter Present</th>\n      <th>PatientID</th>\n    </tr>\n  </thead>\n  <tbody>\n    <tr>\n      <th>0</th>\n      <td>1.2.826.0.1.3680043.8.498.26697628953273228189...</td>\n      <td>0</td>\n      <td>0</td>\n      <td>0</td>\n      <td>0</td>\n      <td>0</td>\n      <td>0</td>\n      <td>1</td>\n      <td>0</td>\n      <td>0</td>\n      <td>0</td>\n      <td>0</td>\n      <td>ec89415d1</td>\n    </tr>\n    <tr>\n      <th>1</th>\n      <td>1.2.826.0.1.3680043.8.498.46302891597398758759...</td>\n      <td>0</td>\n      <td>0</td>\n      <td>1</td>\n      <td>0</td>\n      <td>0</td>\n      <td>1</td>\n      <td>0</td>\n      <td>0</td>\n      <td>0</td>\n      <td>1</td>\n      <td>0</td>\n      <td>bf4c6da3c</td>\n    </tr>\n    <tr>\n      <th>2</th>\n      <td>1.2.826.0.1.3680043.8.498.23819260719748494858...</td>\n      <td>0</td>\n      <td>0</td>\n      <td>0</td>\n      <td>0</td>\n      <td>0</td>\n      <td>0</td>\n      <td>0</td>\n      <td>0</td>\n      <td>1</td>\n      <td>0</td>\n      <td>0</td>\n      <td>3fc1c97e5</td>\n    </tr>\n    <tr>\n      <th>3</th>\n      <td>1.2.826.0.1.3680043.8.498.68286643202323212801...</td>\n      <td>0</td>\n      <td>0</td>\n      <td>0</td>\n      <td>0</td>\n      <td>0</td>\n      <td>0</td>\n      <td>0</td>\n      <td>1</td>\n      <td>0</td>\n      <td>0</td>\n      <td>0</td>\n      <td>c31019814</td>\n    </tr>\n    <tr>\n      <th>4</th>\n      <td>1.2.826.0.1.3680043.8.498.10050203009225938259...</td>\n      <td>0</td>\n      <td>0</td>\n      <td>0</td>\n      <td>0</td>\n      <td>0</td>\n      <td>0</td>\n      <td>0</td>\n      <td>0</td>\n      <td>0</td>\n      <td>1</td>\n      <td>0</td>\n      <td>207685cd1</td>\n    </tr>\n    <tr>\n      <th>...</th>\n      <td>...</td>\n      <td>...</td>\n      <td>...</td>\n      <td>...</td>\n      <td>...</td>\n      <td>...</td>\n      <td>...</td>\n      <td>...</td>\n      <td>...</td>\n      <td>...</td>\n      <td>...</td>\n      <td>...</td>\n      <td>...</td>\n    </tr>\n    <tr>\n      <th>30078</th>\n      <td>1.2.826.0.1.3680043.8.498.74257566841157531124...</td>\n      <td>0</td>\n      <td>0</td>\n      <td>1</td>\n      <td>0</td>\n      <td>0</td>\n      <td>0</td>\n      <td>0</td>\n      <td>0</td>\n      <td>1</td>\n      <td>1</td>\n      <td>0</td>\n      <td>5b5b9ac30</td>\n    </tr>\n    <tr>\n      <th>30079</th>\n      <td>1.2.826.0.1.3680043.8.498.46510939987173529969...</td>\n      <td>0</td>\n      <td>0</td>\n      <td>0</td>\n      <td>0</td>\n      <td>0</td>\n      <td>0</td>\n      <td>0</td>\n      <td>0</td>\n      <td>0</td>\n      <td>1</td>\n      <td>0</td>\n      <td>7192404d8</td>\n    </tr>\n    <tr>\n      <th>30080</th>\n      <td>1.2.826.0.1.3680043.8.498.43173270582850645437...</td>\n      <td>0</td>\n      <td>0</td>\n      <td>1</td>\n      <td>0</td>\n      <td>0</td>\n      <td>1</td>\n      <td>0</td>\n      <td>1</td>\n      <td>0</td>\n      <td>1</td>\n      <td>0</td>\n      <td>d4d1b066d</td>\n    </tr>\n    <tr>\n      <th>30081</th>\n      <td>1.2.826.0.1.3680043.8.498.95092491950130838685...</td>\n      <td>0</td>\n      <td>0</td>\n      <td>0</td>\n      <td>0</td>\n      <td>0</td>\n      <td>0</td>\n      <td>0</td>\n      <td>0</td>\n      <td>1</td>\n      <td>0</td>\n      <td>0</td>\n      <td>01a6602b8</td>\n    </tr>\n    <tr>\n      <th>30082</th>\n      <td>1.2.826.0.1.3680043.8.498.99518162226171269731...</td>\n      <td>0</td>\n      <td>0</td>\n      <td>1</td>\n      <td>0</td>\n      <td>0</td>\n      <td>0</td>\n      <td>0</td>\n      <td>0</td>\n      <td>0</td>\n      <td>1</td>\n      <td>0</td>\n      <td>e692d316c</td>\n    </tr>\n  </tbody>\n</table>\n<p>30083 rows × 13 columns</p>\n</div>"
     },
     "execution_count": 4,
     "metadata": {},
     "output_type": "execute_result"
    }
   ],
   "source": [
    "data"
   ],
   "metadata": {
    "collapsed": false
   }
  },
  {
   "cell_type": "code",
   "execution_count": 5,
   "outputs": [],
   "source": [
    "ett = pd.DataFrame()\n"
   ],
   "metadata": {
    "collapsed": false
   }
  },
  {
   "cell_type": "code",
   "execution_count": 6,
   "outputs": [],
   "source": [
    "ett = data['ETT - Abnormal'] | data['ETT - Normal'] | data['ETT - Borderline']\n",
    "ett = ett.to_frame()"
   ],
   "metadata": {
    "collapsed": false
   }
  },
  {
   "cell_type": "code",
   "execution_count": 7,
   "outputs": [
    {
     "data": {
      "text/plain": "       ETT\n0        0\n1        1\n2        0\n3        0\n4        0\n...    ...\n30078    1\n30079    0\n30080    1\n30081    0\n30082    1\n\n[30083 rows x 1 columns]",
      "text/html": "<div>\n<style scoped>\n    .dataframe tbody tr th:only-of-type {\n        vertical-align: middle;\n    }\n\n    .dataframe tbody tr th {\n        vertical-align: top;\n    }\n\n    .dataframe thead th {\n        text-align: right;\n    }\n</style>\n<table border=\"1\" class=\"dataframe\">\n  <thead>\n    <tr style=\"text-align: right;\">\n      <th></th>\n      <th>ETT</th>\n    </tr>\n  </thead>\n  <tbody>\n    <tr>\n      <th>0</th>\n      <td>0</td>\n    </tr>\n    <tr>\n      <th>1</th>\n      <td>1</td>\n    </tr>\n    <tr>\n      <th>2</th>\n      <td>0</td>\n    </tr>\n    <tr>\n      <th>3</th>\n      <td>0</td>\n    </tr>\n    <tr>\n      <th>4</th>\n      <td>0</td>\n    </tr>\n    <tr>\n      <th>...</th>\n      <td>...</td>\n    </tr>\n    <tr>\n      <th>30078</th>\n      <td>1</td>\n    </tr>\n    <tr>\n      <th>30079</th>\n      <td>0</td>\n    </tr>\n    <tr>\n      <th>30080</th>\n      <td>1</td>\n    </tr>\n    <tr>\n      <th>30081</th>\n      <td>0</td>\n    </tr>\n    <tr>\n      <th>30082</th>\n      <td>1</td>\n    </tr>\n  </tbody>\n</table>\n<p>30083 rows × 1 columns</p>\n</div>"
     },
     "execution_count": 7,
     "metadata": {},
     "output_type": "execute_result"
    }
   ],
   "source": [
    "ett.columns = ['ETT']\n",
    "ett\n"
   ],
   "metadata": {
    "collapsed": false
   }
  },
  {
   "cell_type": "code",
   "execution_count": 8,
   "outputs": [
    {
     "data": {
      "text/plain": "                                        StudyInstanceUID  NGT - Abnormal   \n0      1.2.826.0.1.3680043.8.498.26697628953273228189...               0  \\\n1      1.2.826.0.1.3680043.8.498.46302891597398758759...               0   \n2      1.2.826.0.1.3680043.8.498.23819260719748494858...               0   \n3      1.2.826.0.1.3680043.8.498.68286643202323212801...               0   \n4      1.2.826.0.1.3680043.8.498.10050203009225938259...               0   \n...                                                  ...             ...   \n30078  1.2.826.0.1.3680043.8.498.74257566841157531124...               0   \n30079  1.2.826.0.1.3680043.8.498.46510939987173529969...               0   \n30080  1.2.826.0.1.3680043.8.498.43173270582850645437...               0   \n30081  1.2.826.0.1.3680043.8.498.95092491950130838685...               0   \n30082  1.2.826.0.1.3680043.8.498.99518162226171269731...               0   \n\n       NGT - Borderline  NGT - Incompletely Imaged  NGT - Normal   \n0                     0                          0             1  \\\n1                     0                          1             0   \n2                     0                          0             0   \n3                     0                          0             0   \n4                     0                          0             0   \n...                 ...                        ...           ...   \n30078                 0                          0             0   \n30079                 0                          0             0   \n30080                 0                          1             0   \n30081                 0                          0             0   \n30082                 0                          0             0   \n\n       CVC - Abnormal  CVC - Borderline  CVC - Normal   \n0                   0                 0             0  \\\n1                   0                 0             1   \n2                   0                 1             0   \n3                   1                 0             0   \n4                   0                 0             1   \n...               ...               ...           ...   \n30078               0                 1             1   \n30079               0                 0             1   \n30080               1                 0             1   \n30081               0                 1             0   \n30082               0                 0             1   \n\n       Swan Ganz Catheter Present  PatientID  \n0                               0  ec89415d1  \n1                               0  bf4c6da3c  \n2                               0  3fc1c97e5  \n3                               0  c31019814  \n4                               0  207685cd1  \n...                           ...        ...  \n30078                           0  5b5b9ac30  \n30079                           0  7192404d8  \n30080                           0  d4d1b066d  \n30081                           0  01a6602b8  \n30082                           0  e692d316c  \n\n[30083 rows x 10 columns]",
      "text/html": "<div>\n<style scoped>\n    .dataframe tbody tr th:only-of-type {\n        vertical-align: middle;\n    }\n\n    .dataframe tbody tr th {\n        vertical-align: top;\n    }\n\n    .dataframe thead th {\n        text-align: right;\n    }\n</style>\n<table border=\"1\" class=\"dataframe\">\n  <thead>\n    <tr style=\"text-align: right;\">\n      <th></th>\n      <th>StudyInstanceUID</th>\n      <th>NGT - Abnormal</th>\n      <th>NGT - Borderline</th>\n      <th>NGT - Incompletely Imaged</th>\n      <th>NGT - Normal</th>\n      <th>CVC - Abnormal</th>\n      <th>CVC - Borderline</th>\n      <th>CVC - Normal</th>\n      <th>Swan Ganz Catheter Present</th>\n      <th>PatientID</th>\n    </tr>\n  </thead>\n  <tbody>\n    <tr>\n      <th>0</th>\n      <td>1.2.826.0.1.3680043.8.498.26697628953273228189...</td>\n      <td>0</td>\n      <td>0</td>\n      <td>0</td>\n      <td>1</td>\n      <td>0</td>\n      <td>0</td>\n      <td>0</td>\n      <td>0</td>\n      <td>ec89415d1</td>\n    </tr>\n    <tr>\n      <th>1</th>\n      <td>1.2.826.0.1.3680043.8.498.46302891597398758759...</td>\n      <td>0</td>\n      <td>0</td>\n      <td>1</td>\n      <td>0</td>\n      <td>0</td>\n      <td>0</td>\n      <td>1</td>\n      <td>0</td>\n      <td>bf4c6da3c</td>\n    </tr>\n    <tr>\n      <th>2</th>\n      <td>1.2.826.0.1.3680043.8.498.23819260719748494858...</td>\n      <td>0</td>\n      <td>0</td>\n      <td>0</td>\n      <td>0</td>\n      <td>0</td>\n      <td>1</td>\n      <td>0</td>\n      <td>0</td>\n      <td>3fc1c97e5</td>\n    </tr>\n    <tr>\n      <th>3</th>\n      <td>1.2.826.0.1.3680043.8.498.68286643202323212801...</td>\n      <td>0</td>\n      <td>0</td>\n      <td>0</td>\n      <td>0</td>\n      <td>1</td>\n      <td>0</td>\n      <td>0</td>\n      <td>0</td>\n      <td>c31019814</td>\n    </tr>\n    <tr>\n      <th>4</th>\n      <td>1.2.826.0.1.3680043.8.498.10050203009225938259...</td>\n      <td>0</td>\n      <td>0</td>\n      <td>0</td>\n      <td>0</td>\n      <td>0</td>\n      <td>0</td>\n      <td>1</td>\n      <td>0</td>\n      <td>207685cd1</td>\n    </tr>\n    <tr>\n      <th>...</th>\n      <td>...</td>\n      <td>...</td>\n      <td>...</td>\n      <td>...</td>\n      <td>...</td>\n      <td>...</td>\n      <td>...</td>\n      <td>...</td>\n      <td>...</td>\n      <td>...</td>\n    </tr>\n    <tr>\n      <th>30078</th>\n      <td>1.2.826.0.1.3680043.8.498.74257566841157531124...</td>\n      <td>0</td>\n      <td>0</td>\n      <td>0</td>\n      <td>0</td>\n      <td>0</td>\n      <td>1</td>\n      <td>1</td>\n      <td>0</td>\n      <td>5b5b9ac30</td>\n    </tr>\n    <tr>\n      <th>30079</th>\n      <td>1.2.826.0.1.3680043.8.498.46510939987173529969...</td>\n      <td>0</td>\n      <td>0</td>\n      <td>0</td>\n      <td>0</td>\n      <td>0</td>\n      <td>0</td>\n      <td>1</td>\n      <td>0</td>\n      <td>7192404d8</td>\n    </tr>\n    <tr>\n      <th>30080</th>\n      <td>1.2.826.0.1.3680043.8.498.43173270582850645437...</td>\n      <td>0</td>\n      <td>0</td>\n      <td>1</td>\n      <td>0</td>\n      <td>1</td>\n      <td>0</td>\n      <td>1</td>\n      <td>0</td>\n      <td>d4d1b066d</td>\n    </tr>\n    <tr>\n      <th>30081</th>\n      <td>1.2.826.0.1.3680043.8.498.95092491950130838685...</td>\n      <td>0</td>\n      <td>0</td>\n      <td>0</td>\n      <td>0</td>\n      <td>0</td>\n      <td>1</td>\n      <td>0</td>\n      <td>0</td>\n      <td>01a6602b8</td>\n    </tr>\n    <tr>\n      <th>30082</th>\n      <td>1.2.826.0.1.3680043.8.498.99518162226171269731...</td>\n      <td>0</td>\n      <td>0</td>\n      <td>0</td>\n      <td>0</td>\n      <td>0</td>\n      <td>0</td>\n      <td>1</td>\n      <td>0</td>\n      <td>e692d316c</td>\n    </tr>\n  </tbody>\n</table>\n<p>30083 rows × 10 columns</p>\n</div>"
     },
     "execution_count": 8,
     "metadata": {},
     "output_type": "execute_result"
    }
   ],
   "source": [
    "\n",
    "data = data.drop('ETT - Abnormal',axis=1)\n",
    "data = data.drop('ETT - Normal',axis=1)\n",
    "data = data.drop('ETT - Borderline',axis=1)\n",
    "data"
   ],
   "metadata": {
    "collapsed": false
   }
  },
  {
   "cell_type": "code",
   "execution_count": 9,
   "outputs": [
    {
     "data": {
      "text/plain": "                                        StudyInstanceUID  NGT - Abnormal   \n0      1.2.826.0.1.3680043.8.498.26697628953273228189...               0  \\\n1      1.2.826.0.1.3680043.8.498.46302891597398758759...               0   \n2      1.2.826.0.1.3680043.8.498.23819260719748494858...               0   \n3      1.2.826.0.1.3680043.8.498.68286643202323212801...               0   \n4      1.2.826.0.1.3680043.8.498.10050203009225938259...               0   \n...                                                  ...             ...   \n30078  1.2.826.0.1.3680043.8.498.74257566841157531124...               0   \n30079  1.2.826.0.1.3680043.8.498.46510939987173529969...               0   \n30080  1.2.826.0.1.3680043.8.498.43173270582850645437...               0   \n30081  1.2.826.0.1.3680043.8.498.95092491950130838685...               0   \n30082  1.2.826.0.1.3680043.8.498.99518162226171269731...               0   \n\n       NGT - Borderline  NGT - Incompletely Imaged  NGT - Normal   \n0                     0                          0             1  \\\n1                     0                          1             0   \n2                     0                          0             0   \n3                     0                          0             0   \n4                     0                          0             0   \n...                 ...                        ...           ...   \n30078                 0                          0             0   \n30079                 0                          0             0   \n30080                 0                          1             0   \n30081                 0                          0             0   \n30082                 0                          0             0   \n\n       CVC - Abnormal  CVC - Borderline  CVC - Normal   \n0                   0                 0             0  \\\n1                   0                 0             1   \n2                   0                 1             0   \n3                   1                 0             0   \n4                   0                 0             1   \n...               ...               ...           ...   \n30078               0                 1             1   \n30079               0                 0             1   \n30080               1                 0             1   \n30081               0                 1             0   \n30082               0                 0             1   \n\n       Swan Ganz Catheter Present  PatientID  ETT  \n0                               0  ec89415d1    0  \n1                               0  bf4c6da3c    1  \n2                               0  3fc1c97e5    0  \n3                               0  c31019814    0  \n4                               0  207685cd1    0  \n...                           ...        ...  ...  \n30078                           0  5b5b9ac30    1  \n30079                           0  7192404d8    0  \n30080                           0  d4d1b066d    1  \n30081                           0  01a6602b8    0  \n30082                           0  e692d316c    1  \n\n[30083 rows x 11 columns]",
      "text/html": "<div>\n<style scoped>\n    .dataframe tbody tr th:only-of-type {\n        vertical-align: middle;\n    }\n\n    .dataframe tbody tr th {\n        vertical-align: top;\n    }\n\n    .dataframe thead th {\n        text-align: right;\n    }\n</style>\n<table border=\"1\" class=\"dataframe\">\n  <thead>\n    <tr style=\"text-align: right;\">\n      <th></th>\n      <th>StudyInstanceUID</th>\n      <th>NGT - Abnormal</th>\n      <th>NGT - Borderline</th>\n      <th>NGT - Incompletely Imaged</th>\n      <th>NGT - Normal</th>\n      <th>CVC - Abnormal</th>\n      <th>CVC - Borderline</th>\n      <th>CVC - Normal</th>\n      <th>Swan Ganz Catheter Present</th>\n      <th>PatientID</th>\n      <th>ETT</th>\n    </tr>\n  </thead>\n  <tbody>\n    <tr>\n      <th>0</th>\n      <td>1.2.826.0.1.3680043.8.498.26697628953273228189...</td>\n      <td>0</td>\n      <td>0</td>\n      <td>0</td>\n      <td>1</td>\n      <td>0</td>\n      <td>0</td>\n      <td>0</td>\n      <td>0</td>\n      <td>ec89415d1</td>\n      <td>0</td>\n    </tr>\n    <tr>\n      <th>1</th>\n      <td>1.2.826.0.1.3680043.8.498.46302891597398758759...</td>\n      <td>0</td>\n      <td>0</td>\n      <td>1</td>\n      <td>0</td>\n      <td>0</td>\n      <td>0</td>\n      <td>1</td>\n      <td>0</td>\n      <td>bf4c6da3c</td>\n      <td>1</td>\n    </tr>\n    <tr>\n      <th>2</th>\n      <td>1.2.826.0.1.3680043.8.498.23819260719748494858...</td>\n      <td>0</td>\n      <td>0</td>\n      <td>0</td>\n      <td>0</td>\n      <td>0</td>\n      <td>1</td>\n      <td>0</td>\n      <td>0</td>\n      <td>3fc1c97e5</td>\n      <td>0</td>\n    </tr>\n    <tr>\n      <th>3</th>\n      <td>1.2.826.0.1.3680043.8.498.68286643202323212801...</td>\n      <td>0</td>\n      <td>0</td>\n      <td>0</td>\n      <td>0</td>\n      <td>1</td>\n      <td>0</td>\n      <td>0</td>\n      <td>0</td>\n      <td>c31019814</td>\n      <td>0</td>\n    </tr>\n    <tr>\n      <th>4</th>\n      <td>1.2.826.0.1.3680043.8.498.10050203009225938259...</td>\n      <td>0</td>\n      <td>0</td>\n      <td>0</td>\n      <td>0</td>\n      <td>0</td>\n      <td>0</td>\n      <td>1</td>\n      <td>0</td>\n      <td>207685cd1</td>\n      <td>0</td>\n    </tr>\n    <tr>\n      <th>...</th>\n      <td>...</td>\n      <td>...</td>\n      <td>...</td>\n      <td>...</td>\n      <td>...</td>\n      <td>...</td>\n      <td>...</td>\n      <td>...</td>\n      <td>...</td>\n      <td>...</td>\n      <td>...</td>\n    </tr>\n    <tr>\n      <th>30078</th>\n      <td>1.2.826.0.1.3680043.8.498.74257566841157531124...</td>\n      <td>0</td>\n      <td>0</td>\n      <td>0</td>\n      <td>0</td>\n      <td>0</td>\n      <td>1</td>\n      <td>1</td>\n      <td>0</td>\n      <td>5b5b9ac30</td>\n      <td>1</td>\n    </tr>\n    <tr>\n      <th>30079</th>\n      <td>1.2.826.0.1.3680043.8.498.46510939987173529969...</td>\n      <td>0</td>\n      <td>0</td>\n      <td>0</td>\n      <td>0</td>\n      <td>0</td>\n      <td>0</td>\n      <td>1</td>\n      <td>0</td>\n      <td>7192404d8</td>\n      <td>0</td>\n    </tr>\n    <tr>\n      <th>30080</th>\n      <td>1.2.826.0.1.3680043.8.498.43173270582850645437...</td>\n      <td>0</td>\n      <td>0</td>\n      <td>1</td>\n      <td>0</td>\n      <td>1</td>\n      <td>0</td>\n      <td>1</td>\n      <td>0</td>\n      <td>d4d1b066d</td>\n      <td>1</td>\n    </tr>\n    <tr>\n      <th>30081</th>\n      <td>1.2.826.0.1.3680043.8.498.95092491950130838685...</td>\n      <td>0</td>\n      <td>0</td>\n      <td>0</td>\n      <td>0</td>\n      <td>0</td>\n      <td>1</td>\n      <td>0</td>\n      <td>0</td>\n      <td>01a6602b8</td>\n      <td>0</td>\n    </tr>\n    <tr>\n      <th>30082</th>\n      <td>1.2.826.0.1.3680043.8.498.99518162226171269731...</td>\n      <td>0</td>\n      <td>0</td>\n      <td>0</td>\n      <td>0</td>\n      <td>0</td>\n      <td>0</td>\n      <td>1</td>\n      <td>0</td>\n      <td>e692d316c</td>\n      <td>1</td>\n    </tr>\n  </tbody>\n</table>\n<p>30083 rows × 11 columns</p>\n</div>"
     },
     "execution_count": 9,
     "metadata": {},
     "output_type": "execute_result"
    }
   ],
   "source": [
    "\n",
    "data = pd.concat([data, ett],axis=1)\n",
    "data"
   ],
   "metadata": {
    "collapsed": false
   }
  },
  {
   "cell_type": "code",
   "execution_count": 10,
   "outputs": [
    {
     "data": {
      "text/plain": "       NGT\n0        1\n1        0\n2        0\n3        0\n4        0\n...    ...\n30078    0\n30079    0\n30080    0\n30081    0\n30082    0\n\n[30083 rows x 1 columns]",
      "text/html": "<div>\n<style scoped>\n    .dataframe tbody tr th:only-of-type {\n        vertical-align: middle;\n    }\n\n    .dataframe tbody tr th {\n        vertical-align: top;\n    }\n\n    .dataframe thead th {\n        text-align: right;\n    }\n</style>\n<table border=\"1\" class=\"dataframe\">\n  <thead>\n    <tr style=\"text-align: right;\">\n      <th></th>\n      <th>NGT</th>\n    </tr>\n  </thead>\n  <tbody>\n    <tr>\n      <th>0</th>\n      <td>1</td>\n    </tr>\n    <tr>\n      <th>1</th>\n      <td>0</td>\n    </tr>\n    <tr>\n      <th>2</th>\n      <td>0</td>\n    </tr>\n    <tr>\n      <th>3</th>\n      <td>0</td>\n    </tr>\n    <tr>\n      <th>4</th>\n      <td>0</td>\n    </tr>\n    <tr>\n      <th>...</th>\n      <td>...</td>\n    </tr>\n    <tr>\n      <th>30078</th>\n      <td>0</td>\n    </tr>\n    <tr>\n      <th>30079</th>\n      <td>0</td>\n    </tr>\n    <tr>\n      <th>30080</th>\n      <td>0</td>\n    </tr>\n    <tr>\n      <th>30081</th>\n      <td>0</td>\n    </tr>\n    <tr>\n      <th>30082</th>\n      <td>0</td>\n    </tr>\n  </tbody>\n</table>\n<p>30083 rows × 1 columns</p>\n</div>"
     },
     "execution_count": 10,
     "metadata": {},
     "output_type": "execute_result"
    }
   ],
   "source": [
    "ngt = pd.DataFrame()\n",
    "ngt = data['NGT - Normal'] | data['NGT - Normal'] | data['NGT - Borderline']\n",
    "ngt = ngt.to_frame()\n",
    "ngt.columns = ['NGT']\n",
    "ngt"
   ],
   "metadata": {
    "collapsed": false
   }
  },
  {
   "cell_type": "code",
   "execution_count": 11,
   "outputs": [
    {
     "data": {
      "text/plain": "                                        StudyInstanceUID   \n0      1.2.826.0.1.3680043.8.498.26697628953273228189...  \\\n1      1.2.826.0.1.3680043.8.498.46302891597398758759...   \n2      1.2.826.0.1.3680043.8.498.23819260719748494858...   \n3      1.2.826.0.1.3680043.8.498.68286643202323212801...   \n4      1.2.826.0.1.3680043.8.498.10050203009225938259...   \n...                                                  ...   \n30078  1.2.826.0.1.3680043.8.498.74257566841157531124...   \n30079  1.2.826.0.1.3680043.8.498.46510939987173529969...   \n30080  1.2.826.0.1.3680043.8.498.43173270582850645437...   \n30081  1.2.826.0.1.3680043.8.498.95092491950130838685...   \n30082  1.2.826.0.1.3680043.8.498.99518162226171269731...   \n\n       NGT - Incompletely Imaged  CVC - Abnormal  CVC - Borderline   \n0                              0               0                 0  \\\n1                              1               0                 0   \n2                              0               0                 1   \n3                              0               1                 0   \n4                              0               0                 0   \n...                          ...             ...               ...   \n30078                          0               0                 1   \n30079                          0               0                 0   \n30080                          1               1                 0   \n30081                          0               0                 1   \n30082                          0               0                 0   \n\n       CVC - Normal  Swan Ganz Catheter Present  PatientID  ETT  \n0                 0                           0  ec89415d1    0  \n1                 1                           0  bf4c6da3c    1  \n2                 0                           0  3fc1c97e5    0  \n3                 0                           0  c31019814    0  \n4                 1                           0  207685cd1    0  \n...             ...                         ...        ...  ...  \n30078             1                           0  5b5b9ac30    1  \n30079             1                           0  7192404d8    0  \n30080             1                           0  d4d1b066d    1  \n30081             0                           0  01a6602b8    0  \n30082             1                           0  e692d316c    1  \n\n[30083 rows x 8 columns]",
      "text/html": "<div>\n<style scoped>\n    .dataframe tbody tr th:only-of-type {\n        vertical-align: middle;\n    }\n\n    .dataframe tbody tr th {\n        vertical-align: top;\n    }\n\n    .dataframe thead th {\n        text-align: right;\n    }\n</style>\n<table border=\"1\" class=\"dataframe\">\n  <thead>\n    <tr style=\"text-align: right;\">\n      <th></th>\n      <th>StudyInstanceUID</th>\n      <th>NGT - Incompletely Imaged</th>\n      <th>CVC - Abnormal</th>\n      <th>CVC - Borderline</th>\n      <th>CVC - Normal</th>\n      <th>Swan Ganz Catheter Present</th>\n      <th>PatientID</th>\n      <th>ETT</th>\n    </tr>\n  </thead>\n  <tbody>\n    <tr>\n      <th>0</th>\n      <td>1.2.826.0.1.3680043.8.498.26697628953273228189...</td>\n      <td>0</td>\n      <td>0</td>\n      <td>0</td>\n      <td>0</td>\n      <td>0</td>\n      <td>ec89415d1</td>\n      <td>0</td>\n    </tr>\n    <tr>\n      <th>1</th>\n      <td>1.2.826.0.1.3680043.8.498.46302891597398758759...</td>\n      <td>1</td>\n      <td>0</td>\n      <td>0</td>\n      <td>1</td>\n      <td>0</td>\n      <td>bf4c6da3c</td>\n      <td>1</td>\n    </tr>\n    <tr>\n      <th>2</th>\n      <td>1.2.826.0.1.3680043.8.498.23819260719748494858...</td>\n      <td>0</td>\n      <td>0</td>\n      <td>1</td>\n      <td>0</td>\n      <td>0</td>\n      <td>3fc1c97e5</td>\n      <td>0</td>\n    </tr>\n    <tr>\n      <th>3</th>\n      <td>1.2.826.0.1.3680043.8.498.68286643202323212801...</td>\n      <td>0</td>\n      <td>1</td>\n      <td>0</td>\n      <td>0</td>\n      <td>0</td>\n      <td>c31019814</td>\n      <td>0</td>\n    </tr>\n    <tr>\n      <th>4</th>\n      <td>1.2.826.0.1.3680043.8.498.10050203009225938259...</td>\n      <td>0</td>\n      <td>0</td>\n      <td>0</td>\n      <td>1</td>\n      <td>0</td>\n      <td>207685cd1</td>\n      <td>0</td>\n    </tr>\n    <tr>\n      <th>...</th>\n      <td>...</td>\n      <td>...</td>\n      <td>...</td>\n      <td>...</td>\n      <td>...</td>\n      <td>...</td>\n      <td>...</td>\n      <td>...</td>\n    </tr>\n    <tr>\n      <th>30078</th>\n      <td>1.2.826.0.1.3680043.8.498.74257566841157531124...</td>\n      <td>0</td>\n      <td>0</td>\n      <td>1</td>\n      <td>1</td>\n      <td>0</td>\n      <td>5b5b9ac30</td>\n      <td>1</td>\n    </tr>\n    <tr>\n      <th>30079</th>\n      <td>1.2.826.0.1.3680043.8.498.46510939987173529969...</td>\n      <td>0</td>\n      <td>0</td>\n      <td>0</td>\n      <td>1</td>\n      <td>0</td>\n      <td>7192404d8</td>\n      <td>0</td>\n    </tr>\n    <tr>\n      <th>30080</th>\n      <td>1.2.826.0.1.3680043.8.498.43173270582850645437...</td>\n      <td>1</td>\n      <td>1</td>\n      <td>0</td>\n      <td>1</td>\n      <td>0</td>\n      <td>d4d1b066d</td>\n      <td>1</td>\n    </tr>\n    <tr>\n      <th>30081</th>\n      <td>1.2.826.0.1.3680043.8.498.95092491950130838685...</td>\n      <td>0</td>\n      <td>0</td>\n      <td>1</td>\n      <td>0</td>\n      <td>0</td>\n      <td>01a6602b8</td>\n      <td>0</td>\n    </tr>\n    <tr>\n      <th>30082</th>\n      <td>1.2.826.0.1.3680043.8.498.99518162226171269731...</td>\n      <td>0</td>\n      <td>0</td>\n      <td>0</td>\n      <td>1</td>\n      <td>0</td>\n      <td>e692d316c</td>\n      <td>1</td>\n    </tr>\n  </tbody>\n</table>\n<p>30083 rows × 8 columns</p>\n</div>"
     },
     "execution_count": 11,
     "metadata": {},
     "output_type": "execute_result"
    }
   ],
   "source": [
    "data = data.drop('NGT - Normal',axis=1)\n",
    "data = data.drop('NGT - Abnormal',axis=1)\n",
    "data = data.drop('NGT - Borderline',axis=1)\n",
    "data"
   ],
   "metadata": {
    "collapsed": false
   }
  },
  {
   "cell_type": "code",
   "execution_count": 12,
   "outputs": [
    {
     "data": {
      "text/plain": "                                        StudyInstanceUID   \n0      1.2.826.0.1.3680043.8.498.26697628953273228189...  \\\n1      1.2.826.0.1.3680043.8.498.46302891597398758759...   \n2      1.2.826.0.1.3680043.8.498.23819260719748494858...   \n3      1.2.826.0.1.3680043.8.498.68286643202323212801...   \n4      1.2.826.0.1.3680043.8.498.10050203009225938259...   \n...                                                  ...   \n30078  1.2.826.0.1.3680043.8.498.74257566841157531124...   \n30079  1.2.826.0.1.3680043.8.498.46510939987173529969...   \n30080  1.2.826.0.1.3680043.8.498.43173270582850645437...   \n30081  1.2.826.0.1.3680043.8.498.95092491950130838685...   \n30082  1.2.826.0.1.3680043.8.498.99518162226171269731...   \n\n       NGT - Incompletely Imaged  CVC - Abnormal  CVC - Borderline   \n0                              0               0                 0  \\\n1                              1               0                 0   \n2                              0               0                 1   \n3                              0               1                 0   \n4                              0               0                 0   \n...                          ...             ...               ...   \n30078                          0               0                 1   \n30079                          0               0                 0   \n30080                          1               1                 0   \n30081                          0               0                 1   \n30082                          0               0                 0   \n\n       CVC - Normal  Swan Ganz Catheter Present  PatientID  ETT  NGT  \n0                 0                           0  ec89415d1    0    1  \n1                 1                           0  bf4c6da3c    1    0  \n2                 0                           0  3fc1c97e5    0    0  \n3                 0                           0  c31019814    0    0  \n4                 1                           0  207685cd1    0    0  \n...             ...                         ...        ...  ...  ...  \n30078             1                           0  5b5b9ac30    1    0  \n30079             1                           0  7192404d8    0    0  \n30080             1                           0  d4d1b066d    1    0  \n30081             0                           0  01a6602b8    0    0  \n30082             1                           0  e692d316c    1    0  \n\n[30083 rows x 9 columns]",
      "text/html": "<div>\n<style scoped>\n    .dataframe tbody tr th:only-of-type {\n        vertical-align: middle;\n    }\n\n    .dataframe tbody tr th {\n        vertical-align: top;\n    }\n\n    .dataframe thead th {\n        text-align: right;\n    }\n</style>\n<table border=\"1\" class=\"dataframe\">\n  <thead>\n    <tr style=\"text-align: right;\">\n      <th></th>\n      <th>StudyInstanceUID</th>\n      <th>NGT - Incompletely Imaged</th>\n      <th>CVC - Abnormal</th>\n      <th>CVC - Borderline</th>\n      <th>CVC - Normal</th>\n      <th>Swan Ganz Catheter Present</th>\n      <th>PatientID</th>\n      <th>ETT</th>\n      <th>NGT</th>\n    </tr>\n  </thead>\n  <tbody>\n    <tr>\n      <th>0</th>\n      <td>1.2.826.0.1.3680043.8.498.26697628953273228189...</td>\n      <td>0</td>\n      <td>0</td>\n      <td>0</td>\n      <td>0</td>\n      <td>0</td>\n      <td>ec89415d1</td>\n      <td>0</td>\n      <td>1</td>\n    </tr>\n    <tr>\n      <th>1</th>\n      <td>1.2.826.0.1.3680043.8.498.46302891597398758759...</td>\n      <td>1</td>\n      <td>0</td>\n      <td>0</td>\n      <td>1</td>\n      <td>0</td>\n      <td>bf4c6da3c</td>\n      <td>1</td>\n      <td>0</td>\n    </tr>\n    <tr>\n      <th>2</th>\n      <td>1.2.826.0.1.3680043.8.498.23819260719748494858...</td>\n      <td>0</td>\n      <td>0</td>\n      <td>1</td>\n      <td>0</td>\n      <td>0</td>\n      <td>3fc1c97e5</td>\n      <td>0</td>\n      <td>0</td>\n    </tr>\n    <tr>\n      <th>3</th>\n      <td>1.2.826.0.1.3680043.8.498.68286643202323212801...</td>\n      <td>0</td>\n      <td>1</td>\n      <td>0</td>\n      <td>0</td>\n      <td>0</td>\n      <td>c31019814</td>\n      <td>0</td>\n      <td>0</td>\n    </tr>\n    <tr>\n      <th>4</th>\n      <td>1.2.826.0.1.3680043.8.498.10050203009225938259...</td>\n      <td>0</td>\n      <td>0</td>\n      <td>0</td>\n      <td>1</td>\n      <td>0</td>\n      <td>207685cd1</td>\n      <td>0</td>\n      <td>0</td>\n    </tr>\n    <tr>\n      <th>...</th>\n      <td>...</td>\n      <td>...</td>\n      <td>...</td>\n      <td>...</td>\n      <td>...</td>\n      <td>...</td>\n      <td>...</td>\n      <td>...</td>\n      <td>...</td>\n    </tr>\n    <tr>\n      <th>30078</th>\n      <td>1.2.826.0.1.3680043.8.498.74257566841157531124...</td>\n      <td>0</td>\n      <td>0</td>\n      <td>1</td>\n      <td>1</td>\n      <td>0</td>\n      <td>5b5b9ac30</td>\n      <td>1</td>\n      <td>0</td>\n    </tr>\n    <tr>\n      <th>30079</th>\n      <td>1.2.826.0.1.3680043.8.498.46510939987173529969...</td>\n      <td>0</td>\n      <td>0</td>\n      <td>0</td>\n      <td>1</td>\n      <td>0</td>\n      <td>7192404d8</td>\n      <td>0</td>\n      <td>0</td>\n    </tr>\n    <tr>\n      <th>30080</th>\n      <td>1.2.826.0.1.3680043.8.498.43173270582850645437...</td>\n      <td>1</td>\n      <td>1</td>\n      <td>0</td>\n      <td>1</td>\n      <td>0</td>\n      <td>d4d1b066d</td>\n      <td>1</td>\n      <td>0</td>\n    </tr>\n    <tr>\n      <th>30081</th>\n      <td>1.2.826.0.1.3680043.8.498.95092491950130838685...</td>\n      <td>0</td>\n      <td>0</td>\n      <td>1</td>\n      <td>0</td>\n      <td>0</td>\n      <td>01a6602b8</td>\n      <td>0</td>\n      <td>0</td>\n    </tr>\n    <tr>\n      <th>30082</th>\n      <td>1.2.826.0.1.3680043.8.498.99518162226171269731...</td>\n      <td>0</td>\n      <td>0</td>\n      <td>0</td>\n      <td>1</td>\n      <td>0</td>\n      <td>e692d316c</td>\n      <td>1</td>\n      <td>0</td>\n    </tr>\n  </tbody>\n</table>\n<p>30083 rows × 9 columns</p>\n</div>"
     },
     "execution_count": 12,
     "metadata": {},
     "output_type": "execute_result"
    }
   ],
   "source": [
    "data = pd.concat([data, ngt],axis=1)\n",
    "data"
   ],
   "metadata": {
    "collapsed": false
   }
  },
  {
   "cell_type": "code",
   "execution_count": 13,
   "outputs": [
    {
     "data": {
      "text/plain": "       CVC\n0        0\n1        1\n2        1\n3        0\n4        1\n...    ...\n30078    1\n30079    1\n30080    1\n30081    1\n30082    1\n\n[30083 rows x 1 columns]",
      "text/html": "<div>\n<style scoped>\n    .dataframe tbody tr th:only-of-type {\n        vertical-align: middle;\n    }\n\n    .dataframe tbody tr th {\n        vertical-align: top;\n    }\n\n    .dataframe thead th {\n        text-align: right;\n    }\n</style>\n<table border=\"1\" class=\"dataframe\">\n  <thead>\n    <tr style=\"text-align: right;\">\n      <th></th>\n      <th>CVC</th>\n    </tr>\n  </thead>\n  <tbody>\n    <tr>\n      <th>0</th>\n      <td>0</td>\n    </tr>\n    <tr>\n      <th>1</th>\n      <td>1</td>\n    </tr>\n    <tr>\n      <th>2</th>\n      <td>1</td>\n    </tr>\n    <tr>\n      <th>3</th>\n      <td>0</td>\n    </tr>\n    <tr>\n      <th>4</th>\n      <td>1</td>\n    </tr>\n    <tr>\n      <th>...</th>\n      <td>...</td>\n    </tr>\n    <tr>\n      <th>30078</th>\n      <td>1</td>\n    </tr>\n    <tr>\n      <th>30079</th>\n      <td>1</td>\n    </tr>\n    <tr>\n      <th>30080</th>\n      <td>1</td>\n    </tr>\n    <tr>\n      <th>30081</th>\n      <td>1</td>\n    </tr>\n    <tr>\n      <th>30082</th>\n      <td>1</td>\n    </tr>\n  </tbody>\n</table>\n<p>30083 rows × 1 columns</p>\n</div>"
     },
     "execution_count": 13,
     "metadata": {},
     "output_type": "execute_result"
    }
   ],
   "source": [
    "cvc = pd.DataFrame()\n",
    "cvc = data['CVC - Normal'] | data['CVC - Normal'] | data['CVC - Borderline']\n",
    "cvc = cvc.to_frame()\n",
    "cvc.columns = ['CVC']\n",
    "cvc"
   ],
   "metadata": {
    "collapsed": false
   }
  },
  {
   "cell_type": "code",
   "execution_count": 14,
   "outputs": [
    {
     "data": {
      "text/plain": "                                        StudyInstanceUID   \n0      1.2.826.0.1.3680043.8.498.26697628953273228189...  \\\n1      1.2.826.0.1.3680043.8.498.46302891597398758759...   \n2      1.2.826.0.1.3680043.8.498.23819260719748494858...   \n3      1.2.826.0.1.3680043.8.498.68286643202323212801...   \n4      1.2.826.0.1.3680043.8.498.10050203009225938259...   \n...                                                  ...   \n30078  1.2.826.0.1.3680043.8.498.74257566841157531124...   \n30079  1.2.826.0.1.3680043.8.498.46510939987173529969...   \n30080  1.2.826.0.1.3680043.8.498.43173270582850645437...   \n30081  1.2.826.0.1.3680043.8.498.95092491950130838685...   \n30082  1.2.826.0.1.3680043.8.498.99518162226171269731...   \n\n       NGT - Incompletely Imaged  Swan Ganz Catheter Present  PatientID  ETT   \n0                              0                           0  ec89415d1    0  \\\n1                              1                           0  bf4c6da3c    1   \n2                              0                           0  3fc1c97e5    0   \n3                              0                           0  c31019814    0   \n4                              0                           0  207685cd1    0   \n...                          ...                         ...        ...  ...   \n30078                          0                           0  5b5b9ac30    1   \n30079                          0                           0  7192404d8    0   \n30080                          1                           0  d4d1b066d    1   \n30081                          0                           0  01a6602b8    0   \n30082                          0                           0  e692d316c    1   \n\n       NGT  \n0        1  \n1        0  \n2        0  \n3        0  \n4        0  \n...    ...  \n30078    0  \n30079    0  \n30080    0  \n30081    0  \n30082    0  \n\n[30083 rows x 6 columns]",
      "text/html": "<div>\n<style scoped>\n    .dataframe tbody tr th:only-of-type {\n        vertical-align: middle;\n    }\n\n    .dataframe tbody tr th {\n        vertical-align: top;\n    }\n\n    .dataframe thead th {\n        text-align: right;\n    }\n</style>\n<table border=\"1\" class=\"dataframe\">\n  <thead>\n    <tr style=\"text-align: right;\">\n      <th></th>\n      <th>StudyInstanceUID</th>\n      <th>NGT - Incompletely Imaged</th>\n      <th>Swan Ganz Catheter Present</th>\n      <th>PatientID</th>\n      <th>ETT</th>\n      <th>NGT</th>\n    </tr>\n  </thead>\n  <tbody>\n    <tr>\n      <th>0</th>\n      <td>1.2.826.0.1.3680043.8.498.26697628953273228189...</td>\n      <td>0</td>\n      <td>0</td>\n      <td>ec89415d1</td>\n      <td>0</td>\n      <td>1</td>\n    </tr>\n    <tr>\n      <th>1</th>\n      <td>1.2.826.0.1.3680043.8.498.46302891597398758759...</td>\n      <td>1</td>\n      <td>0</td>\n      <td>bf4c6da3c</td>\n      <td>1</td>\n      <td>0</td>\n    </tr>\n    <tr>\n      <th>2</th>\n      <td>1.2.826.0.1.3680043.8.498.23819260719748494858...</td>\n      <td>0</td>\n      <td>0</td>\n      <td>3fc1c97e5</td>\n      <td>0</td>\n      <td>0</td>\n    </tr>\n    <tr>\n      <th>3</th>\n      <td>1.2.826.0.1.3680043.8.498.68286643202323212801...</td>\n      <td>0</td>\n      <td>0</td>\n      <td>c31019814</td>\n      <td>0</td>\n      <td>0</td>\n    </tr>\n    <tr>\n      <th>4</th>\n      <td>1.2.826.0.1.3680043.8.498.10050203009225938259...</td>\n      <td>0</td>\n      <td>0</td>\n      <td>207685cd1</td>\n      <td>0</td>\n      <td>0</td>\n    </tr>\n    <tr>\n      <th>...</th>\n      <td>...</td>\n      <td>...</td>\n      <td>...</td>\n      <td>...</td>\n      <td>...</td>\n      <td>...</td>\n    </tr>\n    <tr>\n      <th>30078</th>\n      <td>1.2.826.0.1.3680043.8.498.74257566841157531124...</td>\n      <td>0</td>\n      <td>0</td>\n      <td>5b5b9ac30</td>\n      <td>1</td>\n      <td>0</td>\n    </tr>\n    <tr>\n      <th>30079</th>\n      <td>1.2.826.0.1.3680043.8.498.46510939987173529969...</td>\n      <td>0</td>\n      <td>0</td>\n      <td>7192404d8</td>\n      <td>0</td>\n      <td>0</td>\n    </tr>\n    <tr>\n      <th>30080</th>\n      <td>1.2.826.0.1.3680043.8.498.43173270582850645437...</td>\n      <td>1</td>\n      <td>0</td>\n      <td>d4d1b066d</td>\n      <td>1</td>\n      <td>0</td>\n    </tr>\n    <tr>\n      <th>30081</th>\n      <td>1.2.826.0.1.3680043.8.498.95092491950130838685...</td>\n      <td>0</td>\n      <td>0</td>\n      <td>01a6602b8</td>\n      <td>0</td>\n      <td>0</td>\n    </tr>\n    <tr>\n      <th>30082</th>\n      <td>1.2.826.0.1.3680043.8.498.99518162226171269731...</td>\n      <td>0</td>\n      <td>0</td>\n      <td>e692d316c</td>\n      <td>1</td>\n      <td>0</td>\n    </tr>\n  </tbody>\n</table>\n<p>30083 rows × 6 columns</p>\n</div>"
     },
     "execution_count": 14,
     "metadata": {},
     "output_type": "execute_result"
    }
   ],
   "source": [
    "data = data.drop('CVC - Normal',axis=1)\n",
    "data = data.drop('CVC - Abnormal',axis=1)\n",
    "data = data.drop('CVC - Borderline',axis=1)\n",
    "data"
   ],
   "metadata": {
    "collapsed": false
   }
  },
  {
   "cell_type": "code",
   "execution_count": 15,
   "outputs": [
    {
     "data": {
      "text/plain": "                                        StudyInstanceUID   \n0      1.2.826.0.1.3680043.8.498.26697628953273228189...  \\\n1      1.2.826.0.1.3680043.8.498.46302891597398758759...   \n2      1.2.826.0.1.3680043.8.498.23819260719748494858...   \n3      1.2.826.0.1.3680043.8.498.68286643202323212801...   \n4      1.2.826.0.1.3680043.8.498.10050203009225938259...   \n...                                                  ...   \n30078  1.2.826.0.1.3680043.8.498.74257566841157531124...   \n30079  1.2.826.0.1.3680043.8.498.46510939987173529969...   \n30080  1.2.826.0.1.3680043.8.498.43173270582850645437...   \n30081  1.2.826.0.1.3680043.8.498.95092491950130838685...   \n30082  1.2.826.0.1.3680043.8.498.99518162226171269731...   \n\n       NGT - Incompletely Imaged  Swan Ganz Catheter Present  PatientID  ETT   \n0                              0                           0  ec89415d1    0  \\\n1                              1                           0  bf4c6da3c    1   \n2                              0                           0  3fc1c97e5    0   \n3                              0                           0  c31019814    0   \n4                              0                           0  207685cd1    0   \n...                          ...                         ...        ...  ...   \n30078                          0                           0  5b5b9ac30    1   \n30079                          0                           0  7192404d8    0   \n30080                          1                           0  d4d1b066d    1   \n30081                          0                           0  01a6602b8    0   \n30082                          0                           0  e692d316c    1   \n\n       NGT  CVC  \n0        1    0  \n1        0    1  \n2        0    1  \n3        0    0  \n4        0    1  \n...    ...  ...  \n30078    0    1  \n30079    0    1  \n30080    0    1  \n30081    0    1  \n30082    0    1  \n\n[30083 rows x 7 columns]",
      "text/html": "<div>\n<style scoped>\n    .dataframe tbody tr th:only-of-type {\n        vertical-align: middle;\n    }\n\n    .dataframe tbody tr th {\n        vertical-align: top;\n    }\n\n    .dataframe thead th {\n        text-align: right;\n    }\n</style>\n<table border=\"1\" class=\"dataframe\">\n  <thead>\n    <tr style=\"text-align: right;\">\n      <th></th>\n      <th>StudyInstanceUID</th>\n      <th>NGT - Incompletely Imaged</th>\n      <th>Swan Ganz Catheter Present</th>\n      <th>PatientID</th>\n      <th>ETT</th>\n      <th>NGT</th>\n      <th>CVC</th>\n    </tr>\n  </thead>\n  <tbody>\n    <tr>\n      <th>0</th>\n      <td>1.2.826.0.1.3680043.8.498.26697628953273228189...</td>\n      <td>0</td>\n      <td>0</td>\n      <td>ec89415d1</td>\n      <td>0</td>\n      <td>1</td>\n      <td>0</td>\n    </tr>\n    <tr>\n      <th>1</th>\n      <td>1.2.826.0.1.3680043.8.498.46302891597398758759...</td>\n      <td>1</td>\n      <td>0</td>\n      <td>bf4c6da3c</td>\n      <td>1</td>\n      <td>0</td>\n      <td>1</td>\n    </tr>\n    <tr>\n      <th>2</th>\n      <td>1.2.826.0.1.3680043.8.498.23819260719748494858...</td>\n      <td>0</td>\n      <td>0</td>\n      <td>3fc1c97e5</td>\n      <td>0</td>\n      <td>0</td>\n      <td>1</td>\n    </tr>\n    <tr>\n      <th>3</th>\n      <td>1.2.826.0.1.3680043.8.498.68286643202323212801...</td>\n      <td>0</td>\n      <td>0</td>\n      <td>c31019814</td>\n      <td>0</td>\n      <td>0</td>\n      <td>0</td>\n    </tr>\n    <tr>\n      <th>4</th>\n      <td>1.2.826.0.1.3680043.8.498.10050203009225938259...</td>\n      <td>0</td>\n      <td>0</td>\n      <td>207685cd1</td>\n      <td>0</td>\n      <td>0</td>\n      <td>1</td>\n    </tr>\n    <tr>\n      <th>...</th>\n      <td>...</td>\n      <td>...</td>\n      <td>...</td>\n      <td>...</td>\n      <td>...</td>\n      <td>...</td>\n      <td>...</td>\n    </tr>\n    <tr>\n      <th>30078</th>\n      <td>1.2.826.0.1.3680043.8.498.74257566841157531124...</td>\n      <td>0</td>\n      <td>0</td>\n      <td>5b5b9ac30</td>\n      <td>1</td>\n      <td>0</td>\n      <td>1</td>\n    </tr>\n    <tr>\n      <th>30079</th>\n      <td>1.2.826.0.1.3680043.8.498.46510939987173529969...</td>\n      <td>0</td>\n      <td>0</td>\n      <td>7192404d8</td>\n      <td>0</td>\n      <td>0</td>\n      <td>1</td>\n    </tr>\n    <tr>\n      <th>30080</th>\n      <td>1.2.826.0.1.3680043.8.498.43173270582850645437...</td>\n      <td>1</td>\n      <td>0</td>\n      <td>d4d1b066d</td>\n      <td>1</td>\n      <td>0</td>\n      <td>1</td>\n    </tr>\n    <tr>\n      <th>30081</th>\n      <td>1.2.826.0.1.3680043.8.498.95092491950130838685...</td>\n      <td>0</td>\n      <td>0</td>\n      <td>01a6602b8</td>\n      <td>0</td>\n      <td>0</td>\n      <td>1</td>\n    </tr>\n    <tr>\n      <th>30082</th>\n      <td>1.2.826.0.1.3680043.8.498.99518162226171269731...</td>\n      <td>0</td>\n      <td>0</td>\n      <td>e692d316c</td>\n      <td>1</td>\n      <td>0</td>\n      <td>1</td>\n    </tr>\n  </tbody>\n</table>\n<p>30083 rows × 7 columns</p>\n</div>"
     },
     "execution_count": 15,
     "metadata": {},
     "output_type": "execute_result"
    }
   ],
   "source": [
    "data = pd.concat([data, cvc],axis=1)\n",
    "data"
   ],
   "metadata": {
    "collapsed": false
   }
  },
  {
   "cell_type": "code",
   "execution_count": 17,
   "outputs": [
    {
     "data": {
      "text/plain": "array(['003e65ddb', '00757839e', '008d12164', ..., 'ffc0c2252',\n       'ffc5f7a5a', 'ffee0f183'], dtype=object)"
     },
     "execution_count": 17,
     "metadata": {},
     "output_type": "execute_result"
    }
   ],
   "source": [
    "patientid = data['PatientID'].unique()\n",
    "patientid.sort()\n",
    "patientid\n"
   ],
   "metadata": {
    "collapsed": false
   }
  },
  {
   "cell_type": "code",
   "execution_count": 34,
   "outputs": [
    {
     "data": {
      "text/plain": "array(['003e65ddb', '00757839e', '008d12164', ..., 'cfc26adfc',\n       'cfd495f8d', 'cff48b351'], dtype=object)"
     },
     "execution_count": 34,
     "metadata": {},
     "output_type": "execute_result"
    }
   ],
   "source": [
    "train_len = len(patientid)*0.8\n",
    "train_data = np.array(patientid)\n",
    "train_data = train_data[:int(train_len)]\n",
    "train_data"
   ],
   "metadata": {
    "collapsed": false
   }
  },
  {
   "cell_type": "code",
   "execution_count": 38,
   "outputs": [
    {
     "data": {
      "text/plain": "array(['cff5ff654', 'd00a7a796', 'd00dd85d0', 'd018fa4bb', 'd01de7ac5',\n       'd020d1754', 'd0797c387', 'd09e20822', 'd0e33e44a', 'd0e8c45f3',\n       'd102101cb', 'd10f72310', 'd125541da', 'd127539a9', 'd194974fd',\n       'd19b8de2f', 'd1a2e61aa', 'd1b48d2c2', 'd1e2fa3f8', 'd1fa71884',\n       'd2032c9f9', 'd209defbb', 'd22d75de2', 'd2316c49b', 'd2413bf01',\n       'd24c59fc8', 'd260f9a49', 'd2638828e', 'd2782054a', 'd27de9699',\n       'd27f3059a', 'd28130a00', 'd29f76723', 'd2a263c9a', 'd2a7fbdc3',\n       'd2aae74cd', 'd2ac2fc85', 'd2e23de35', 'd2ef79f50', 'd2fb8b578',\n       'd30b4fbd6', 'd31702943', 'd32c90c71', 'd33667558', 'd37059a87',\n       'd3837c93f', 'd386c46a6', 'd38e67a46', 'd3b34ef71', 'd3bf1c739',\n       'd3c05a11d', 'd3e097ca6', 'd3eef9028', 'd3f14fd18', 'd407a7382',\n       'd40b08bc2', 'd4103f048', 'd41f94d47', 'd44256bd0', 'd45e4db3d',\n       'd46ba6d06', 'd484e797d', 'd486e43ab', 'd4b51e9e8', 'd4d1b066d',\n       'd50539e09', 'd509fd7ae', 'd50db9d7b', 'd513ba964', 'd514cfd96',\n       'd53dcce58', 'd5632c6bf', 'd566d036f', 'd574a8f21', 'd57f48a31',\n       'd5996dd94', 'd5bb665ea', 'd5eca1316', 'd5f2964e8', 'd601a9c11',\n       'd60f6d146', 'd6137aabb', 'd639ce0e2', 'd643cdb87', 'd6513af9a',\n       'd659ffd2c', 'd66a27c04', 'd682ff41a', 'd68a9c60c', 'd6bbca273',\n       'd6e4c86f5', 'd6e6cd369', 'd6ea986da', 'd6ee2f606', 'd6f2611f4',\n       'd6f8cbdaf', 'd70a1af83', 'd73b7d2cb', 'd754218d0', 'd757aba8d',\n       'd7675dc23', 'd77681358', 'd77d0d5da', 'd78cbf93e', 'd79638c9d',\n       'd79ebf522', 'd79f9d0fe', 'd7aa72e74', 'd7b9353c0', 'd7fdb9a1d',\n       'd80155622', 'd81b38be3', 'd8241fc4b', 'd847b1c83', 'd848b2cae',\n       'd84c2bc4a', 'd852e9005', 'd860a4e9b', 'd865e3c64', 'd86a454b8',\n       'd8a7b3942', 'd8e9bd0ff', 'd8ef0c94f', 'd8fd75d7c', 'd900f5332',\n       'd91af0dc0', 'd91cabca3', 'd929a4383', 'd9660515a', 'd98ab4908',\n       'd99956b03', 'da2d72698', 'da4747013', 'da5a579f2', 'da6042cea',\n       'da63c2b15', 'da6adc994', 'da76d8561', 'da8533007', 'daca6842f',\n       'dad7ec03a', 'db142ff3b', 'db4ef86f1', 'db66b39ee', 'db77c4b6f',\n       'db85e3705', 'db95ef7f0', 'db9984056', 'dba9ff6f7', 'dbc9dad1d',\n       'dbcf1b422', 'dbe682919', 'dc0b88c16', 'dc191a95d', 'dc38c3aa4',\n       'dc5cd199e', 'dc62283d0', 'dc87ea1ed', 'dcb1fec45', 'dcb900f61',\n       'dcdb53c65', 'dcdbac151', 'dcddeb64b', 'dce80ef60', 'dce9cc938',\n       'dcfeadc06', 'dd146f815', 'dd2813d0e', 'dd31ad43a', 'dd3f2f042',\n       'dd4b69482', 'dd4f854c3', 'dd6798c71', 'dd680bb88', 'dd8cfc1f4',\n       'ddb98de08', 'ddd19883a', 'ddf4a7f2b', 'de0632dc1', 'de449e602',\n       'de523232d', 'de7cb4ced', 'de83b5f32', 'deacc2897', 'dec379e3e',\n       'ded855660', 'dedb73d82', 'dee22cb27', 'def1f89a1', 'df0117309',\n       'df05d23dd', 'df1d7e5b4', 'df319ed45', 'df3797251', 'df53c80c4',\n       'df59add07', 'df80028ec', 'df94076a8', 'df970d5bc', 'df974b021',\n       'dfa4b9f0b', 'dfa9a19da', 'dfb5d6643', 'dfb9e08b4', 'dfb9fb7aa',\n       'dfc4315f7', 'dfcf6cb39', 'dfdc1fefb', 'dfeb16e1c', 'dff1c0f73',\n       'e001492d4', 'e0079ccf9', 'e029840ce', 'e04cdda09', 'e0632abdb',\n       'e06941feb', 'e077f627a', 'e07ff52e7', 'e09c1b9d3', 'e0a6e774e',\n       'e0b6755d9', 'e0b8b72c5', 'e0ccb5868', 'e0e1834bd', 'e0e5472ac',\n       'e0f576067', 'e1079645a', 'e12b10e3d', 'e14b9a926', 'e14f9d055',\n       'e155d5a36', 'e1566ae26', 'e156ad598', 'e18ae9cbd', 'e18d07d49',\n       'e18fc42b7', 'e198ca807', 'e1a7c0a86', 'e1b13d437', 'e1fd48c64',\n       'e21cd99a3', 'e23d67cb7', 'e252d355a', 'e2643e02a', 'e286bcb9c',\n       'e29ea23b9', 'e2bb9c5ca', 'e2cf9e039', 'e2d2b272c', 'e2e78f7a0',\n       'e2f0fd827', 'e31a8314d', 'e332474a6', 'e337b8bea', 'e33b53491',\n       'e33bc5a25', 'e355fea74', 'e35c44ef1', 'e3686d672', 'e36915887',\n       'e36d41692', 'e36fb89fe', 'e37988d0a', 'e381211f9', 'e39df3a3e',\n       'e3a7b7e7e', 'e3ad7200b', 'e3e0eb99f', 'e3e1cfe98', 'e3e326d13',\n       'e3e427e24', 'e3fe23bb1', 'e4106a0ac', 'e421c2002', 'e42ae5816',\n       'e430a84bd', 'e432829ec', 'e43599771', 'e43afde3d', 'e43f90da7',\n       'e44604ca8', 'e4488092b', 'e45967e29', 'e45ba6f7d', 'e46160526',\n       'e46763e02', 'e47a17707', 'e47f6760a', 'e4a97ba2f', 'e4b5c7da0',\n       'e4e273eb2', 'e4ec95b9f', 'e4fbae5a2', 'e51465b5c', 'e5224949d',\n       'e52432b1f', 'e54f3bcd6', 'e55d22caa', 'e58d688fa', 'e5b1c0eaf',\n       'e5b5fd684', 'e5bcd18e5', 'e5be731cd', 'e5c24defc', 'e5cdbb714',\n       'e5de3142b', 'e5e3031c0', 'e5e4ee0f6', 'e5f85d83a', 'e6203a62a',\n       'e6282c3d2', 'e63ac2f39', 'e63e92b3b', 'e64ec73b7', 'e65a98a3e',\n       'e6677d8f5', 'e667a137e', 'e66c84ef9', 'e674eea25', 'e67b512b5',\n       'e692d316c', 'e6b7f336b', 'e6c68b188', 'e6c859447', 'e6e937d23',\n       'e74439d48', 'e7453911c', 'e75f0d6f2', 'e76204034', 'e76935423',\n       'e774936b1', 'e783a08c7', 'e7ce05d9c', 'e7d569719', 'e7db14fce',\n       'e7e7587dd', 'e7fff9bc0', 'e83db5695', 'e8460b753', 'e855d24dc',\n       'e85850556', 'e87114b24', 'e87bc36cb', 'e8a4e1df3', 'e8ba0a49f',\n       'e8bd2e98f', 'e8be3876d', 'e8c275cb5', 'e8cba5199', 'e8e776dc5',\n       'e8f177830', 'e8f385640', 'e9079712c', 'e908999a8', 'e9294e2cd',\n       'e92f4b98e', 'e948f2af3', 'e95c74844', 'e960df13c', 'e96787223',\n       'e977c291e', 'e97ed72cb', 'e9800f499', 'e98cca982', 'e9900192d',\n       'e99136d35', 'ea0ed5288', 'ea193c921', 'ea3908ed0', 'ea5e260ad',\n       'ea69c6f89', 'eaaa86f70', 'eaaff621e', 'eab60ea65', 'eab6819ce',\n       'ead80d1a1', 'ead93484d', 'eae30ccac', 'eb0542e1a', 'eb079a6f6',\n       'eb185d004', 'eb190b984', 'eb2489a5c', 'eb2b8c9ae', 'eb30f15c4',\n       'eb448c051', 'eb65380d5', 'ebc53a397', 'ebdcd4038', 'ebe130aab',\n       'ebeccadb6', 'ebf214f2d', 'ec1a3dc23', 'ec3231c6d', 'ec425a6ca',\n       'ec4804f09', 'ec56829ea', 'ec6eaca89', 'ec89415d1', 'ec959c392',\n       'eca8d509f', 'ecb37bd5f', 'ecee1a696', 'ed36fe59d', 'ed56999f7',\n       'ed63da42d', 'edab58c13', 'edd4fc06e', 'ee244ad4b', 'ee337b552',\n       'ee3575ad6', 'ee53dff46', 'ee5895b10', 'ee6764af5', 'ee729c916',\n       'ee97e5254', 'eee7d83ab', 'eef050fa8', 'eefcdf2c0', 'ef2170014',\n       'ef297af42', 'ef47d0524', 'ef58e1be9', 'ef59a894d', 'ef785db9d',\n       'ef97398b6', 'ef9a050c7', 'efa2ef1c3', 'efb851c43', 'efbcfa15c',\n       'efd4e2611', 'efe6fb375', 'f00a4ffd1', 'f0243ea79', 'f024c52aa',\n       'f0384a6fa', 'f0390ce07', 'f03a665e6', 'f06bd0653', 'f07f9ca0e',\n       'f080f36e9', 'f08e7db70', 'f0913d4c5', 'f0a8db62e', 'f0b40a7a3',\n       'f0d2a4465', 'f0d9fb2b2', 'f0decd025', 'f0f960046', 'f12d66ca6',\n       'f12fdf5d6', 'f13073713', 'f1377b52a', 'f13818d77', 'f1439cb73',\n       'f14718f3d', 'f15123d8f', 'f18b3f960', 'f2098fa32', 'f2283b99d',\n       'f2442e195', 'f24cb766a', 'f2579b61a', 'f26430bb3', 'f26e165c6',\n       'f275171c7', 'f2a7d25d8', 'f2c0e7037', 'f2e813096', 'f2ea92dbf',\n       'f2ecee2be', 'f2f3a4bd4', 'f32805e1d', 'f338a6c58', 'f33a88170',\n       'f33ce4d14', 'f34432c59', 'f34da342b', 'f380cffef', 'f386f9b09',\n       'f39728019', 'f3a48b5e6', 'f3bea41e6', 'f3cbc8719', 'f3db7001d',\n       'f408cf70e', 'f41169bea', 'f43ed957b', 'f44e0c4ec', 'f451cbb84',\n       'f45a32b51', 'f46237081', 'f46664069', 'f47b219d8', 'f494af341',\n       'f499e439b', 'f4a8bd3bb', 'f4a9fc1f0', 'f4b05a17c', 'f4badc92e',\n       'f4bce3395', 'f4ea5a08d', 'f54cdf0b1', 'f5788e864', 'f57ce5b25',\n       'f5b5e88d8', 'f5f551cf2', 'f5fa2961a', 'f6048465a', 'f611d19f7',\n       'f6147af3f', 'f634a48aa', 'f648b6139', 'f667a206b', 'f67e4b751',\n       'f69bce62e', 'f6bef2d03', 'f6cbde7ae', 'f6fb792bb', 'f72447b63',\n       'f725eed2e', 'f78269403', 'f78a3db8e', 'f78c79470', 'f79942bfa',\n       'f7bb96974', 'f7d37101c', 'f7d7c11be', 'f84c63077', 'f852e2115',\n       'f85f699b1', 'f8607fe98', 'f86dee8fd', 'f86f12056', 'f88ee5cbe',\n       'f8b0ad802', 'f8b401cbc', 'f8f10578b', 'f8f5bc15a', 'f8f796587',\n       'f8fd7bed3', 'f902607dc', 'f91f8e609', 'f935db57e', 'f9392bbc0',\n       'f93cf7e67', 'f93d1ab00', 'f941863b0', 'f945ce360', 'f94f7c2f4',\n       'f95fecc1b', 'f9691b393', 'f96cb8694', 'f96d6d646', 'f984180b7',\n       'f98a26a73', 'f9903ee3b', 'f9a4d9112', 'f9d20c5a6', 'f9d3aa449',\n       'f9dedf4cf', 'f9e4ae79a', 'f9ed0d216', 'f9ef215fd', 'f9fb0d12e',\n       'fa0790671', 'fa0a38583', 'fa0cee511', 'fa29117ad', 'fa305ff7c',\n       'fa3b705b2', 'fa55c8245', 'fa5dfb9dd', 'fa7d32f3f', 'fa93c7147',\n       'fa97ed312', 'fac4e2340', 'faf15123e', 'faf32f9e6', 'faf3aeede',\n       'fafbcea2f', 'fafd3e710', 'fb1a25bc9', 'fb2325276', 'fb28f5211',\n       'fb3118d67', 'fb5418dbf', 'fb828140c', 'fba78dee5', 'fbb620657',\n       'fbc657397', 'fbd632534', 'fbe14b7ec', 'fbe630ba4', 'fbea83fd5',\n       'fbf36b794', 'fbfdf8df0', 'fc00d6587', 'fc032c51d', 'fc084b10e',\n       'fc1644ace', 'fc1bd3305', 'fc2705c6d', 'fc2de980b', 'fc38bd193',\n       'fc4269a27', 'fc6f93dd8', 'fc8e49690', 'fc957624d', 'fc98dee63',\n       'fcb0bc779', 'fcb97a8db', 'fcc1c2dfc', 'fccc309a7', 'fcdbe09ab',\n       'fce6e7380', 'fd008a205', 'fd1a47d99', 'fd3ab6f0e', 'fd547fd18',\n       'fd6c02a53', 'fd78d2cab', 'fd99c2984', 'fdd9bacd0', 'fddd15567',\n       'fded263b2', 'fdf00a7ed', 'fdf8c4666', 'fe17dcb74', 'fe2ac4540',\n       'fe693436e', 'fe754d170', 'fe7fb8c67', 'fe900cd30', 'fed489bad',\n       'fef3a1e16', 'fef6f0200', 'fefbb161c', 'ff062e055', 'ff54a6697',\n       'ff5bbc32e', 'ff684458b', 'ff7363658', 'ff826cf51', 'ff965c710',\n       'ff9825ab4', 'ff9eef7cb', 'ffb6ebe51', 'ffc0c2252', 'ffc5f7a5a',\n       'ffee0f183'], dtype=object)"
     },
     "execution_count": 38,
     "metadata": {},
     "output_type": "execute_result"
    }
   ],
   "source": [
    "test_data = np.array(patientid)\n",
    "test_data = test_data[int(train_len):]\n",
    "test_data"
   ],
   "metadata": {
    "collapsed": false
   }
  },
  {
   "cell_type": "code",
   "execution_count": 36,
   "outputs": [
    {
     "data": {
      "text/plain": "                                        StudyInstanceUID   \n15388  1.2.826.0.1.3680043.8.498.59892784756152007438...  \\\n26606  1.2.826.0.1.3680043.8.498.99288640270596999784...   \n26736  1.2.826.0.1.3680043.8.498.24106277096191278042...   \n11171  1.2.826.0.1.3680043.8.498.48867760618674148489...   \n16045  1.2.826.0.1.3680043.8.498.42161315615619527946...   \n...                                                  ...   \n1155   1.2.826.0.1.3680043.8.498.35342516979031910596...   \n6027   1.2.826.0.1.3680043.8.498.29151406117761819957...   \n15510  1.2.826.0.1.3680043.8.498.10464763505639233965...   \n26603  1.2.826.0.1.3680043.8.498.12245783950654018071...   \n27938  1.2.826.0.1.3680043.8.498.54449518688473247250...   \n\n       NGT - Incompletely Imaged  Swan Ganz Catheter Present  PatientID  ETT   \n15388                          0                           0  003e65ddb    0  \\\n26606                          0                           0  003e65ddb    0   \n26736                          0                           0  003e65ddb    0   \n11171                          0                           0  00757839e    0   \n16045                          0                           0  00757839e    0   \n...                          ...                         ...        ...  ...   \n1155                           0                           0  cff48b351    0   \n6027                           0                           0  cff48b351    0   \n15510                          0                           0  cff48b351    0   \n26603                          0                           0  cff48b351    0   \n27938                          0                           0  cff48b351    0   \n\n       NGT  CVC  \n15388    0    0  \n26606    0    1  \n26736    0    0  \n11171    0    1  \n16045    0    1  \n...    ...  ...  \n1155     0    1  \n6027     0    1  \n15510    0    1  \n26603    0    1  \n27938    0    1  \n\n[24100 rows x 7 columns]",
      "text/html": "<div>\n<style scoped>\n    .dataframe tbody tr th:only-of-type {\n        vertical-align: middle;\n    }\n\n    .dataframe tbody tr th {\n        vertical-align: top;\n    }\n\n    .dataframe thead th {\n        text-align: right;\n    }\n</style>\n<table border=\"1\" class=\"dataframe\">\n  <thead>\n    <tr style=\"text-align: right;\">\n      <th></th>\n      <th>StudyInstanceUID</th>\n      <th>NGT - Incompletely Imaged</th>\n      <th>Swan Ganz Catheter Present</th>\n      <th>PatientID</th>\n      <th>ETT</th>\n      <th>NGT</th>\n      <th>CVC</th>\n    </tr>\n  </thead>\n  <tbody>\n    <tr>\n      <th>15388</th>\n      <td>1.2.826.0.1.3680043.8.498.59892784756152007438...</td>\n      <td>0</td>\n      <td>0</td>\n      <td>003e65ddb</td>\n      <td>0</td>\n      <td>0</td>\n      <td>0</td>\n    </tr>\n    <tr>\n      <th>26606</th>\n      <td>1.2.826.0.1.3680043.8.498.99288640270596999784...</td>\n      <td>0</td>\n      <td>0</td>\n      <td>003e65ddb</td>\n      <td>0</td>\n      <td>0</td>\n      <td>1</td>\n    </tr>\n    <tr>\n      <th>26736</th>\n      <td>1.2.826.0.1.3680043.8.498.24106277096191278042...</td>\n      <td>0</td>\n      <td>0</td>\n      <td>003e65ddb</td>\n      <td>0</td>\n      <td>0</td>\n      <td>0</td>\n    </tr>\n    <tr>\n      <th>11171</th>\n      <td>1.2.826.0.1.3680043.8.498.48867760618674148489...</td>\n      <td>0</td>\n      <td>0</td>\n      <td>00757839e</td>\n      <td>0</td>\n      <td>0</td>\n      <td>1</td>\n    </tr>\n    <tr>\n      <th>16045</th>\n      <td>1.2.826.0.1.3680043.8.498.42161315615619527946...</td>\n      <td>0</td>\n      <td>0</td>\n      <td>00757839e</td>\n      <td>0</td>\n      <td>0</td>\n      <td>1</td>\n    </tr>\n    <tr>\n      <th>...</th>\n      <td>...</td>\n      <td>...</td>\n      <td>...</td>\n      <td>...</td>\n      <td>...</td>\n      <td>...</td>\n      <td>...</td>\n    </tr>\n    <tr>\n      <th>1155</th>\n      <td>1.2.826.0.1.3680043.8.498.35342516979031910596...</td>\n      <td>0</td>\n      <td>0</td>\n      <td>cff48b351</td>\n      <td>0</td>\n      <td>0</td>\n      <td>1</td>\n    </tr>\n    <tr>\n      <th>6027</th>\n      <td>1.2.826.0.1.3680043.8.498.29151406117761819957...</td>\n      <td>0</td>\n      <td>0</td>\n      <td>cff48b351</td>\n      <td>0</td>\n      <td>0</td>\n      <td>1</td>\n    </tr>\n    <tr>\n      <th>15510</th>\n      <td>1.2.826.0.1.3680043.8.498.10464763505639233965...</td>\n      <td>0</td>\n      <td>0</td>\n      <td>cff48b351</td>\n      <td>0</td>\n      <td>0</td>\n      <td>1</td>\n    </tr>\n    <tr>\n      <th>26603</th>\n      <td>1.2.826.0.1.3680043.8.498.12245783950654018071...</td>\n      <td>0</td>\n      <td>0</td>\n      <td>cff48b351</td>\n      <td>0</td>\n      <td>0</td>\n      <td>1</td>\n    </tr>\n    <tr>\n      <th>27938</th>\n      <td>1.2.826.0.1.3680043.8.498.54449518688473247250...</td>\n      <td>0</td>\n      <td>0</td>\n      <td>cff48b351</td>\n      <td>0</td>\n      <td>0</td>\n      <td>1</td>\n    </tr>\n  </tbody>\n</table>\n<p>24100 rows × 7 columns</p>\n</div>"
     },
     "execution_count": 36,
     "metadata": {},
     "output_type": "execute_result"
    }
   ],
   "source": [
    "train_set = pd.DataFrame()\n",
    "for value in train_data:\n",
    "    temp_df = data[data['PatientID'] == value]\n",
    "    train_set = pd.concat([train_set, temp_df])\n",
    "train_set"
   ],
   "metadata": {
    "collapsed": false
   }
  },
  {
   "cell_type": "code",
   "execution_count": 39,
   "outputs": [
    {
     "data": {
      "text/plain": "                                        StudyInstanceUID   \n743    1.2.826.0.1.3680043.8.498.24155572423697245566...  \\\n2172   1.2.826.0.1.3680043.8.498.22631318552754262661...   \n2241   1.2.826.0.1.3680043.8.498.83882425057138002609...   \n2462   1.2.826.0.1.3680043.8.498.13066921518260019214...   \n3687   1.2.826.0.1.3680043.8.498.54838912855754621411...   \n...                                                  ...   \n23385  1.2.826.0.1.3680043.8.498.73921173851725323518...   \n26291  1.2.826.0.1.3680043.8.498.48291460626806076317...   \n26540  1.2.826.0.1.3680043.8.498.21041613165722429783...   \n28032  1.2.826.0.1.3680043.8.498.32497922793039429824...   \n28903  1.2.826.0.1.3680043.8.498.11582767971938057384...   \n\n       NGT - Incompletely Imaged  Swan Ganz Catheter Present  PatientID  ETT   \n743                            0                           0  cff5ff654    0  \\\n2172                           0                           0  cff5ff654    0   \n2241                           0                           0  cff5ff654    0   \n2462                           0                           0  cff5ff654    0   \n3687                           0                           0  cff5ff654    0   \n...                          ...                         ...        ...  ...   \n23385                          0                           0  ffee0f183    0   \n26291                          0                           0  ffee0f183    0   \n26540                          0                           0  ffee0f183    0   \n28032                          0                           0  ffee0f183    0   \n28903                          0                           0  ffee0f183    0   \n\n       NGT  CVC  \n743      0    1  \n2172     0    1  \n2241     0    1  \n2462     0    1  \n3687     0    1  \n...    ...  ...  \n23385    0    1  \n26291    0    1  \n26540    1    1  \n28032    1    1  \n28903    1    1  \n\n[5983 rows x 7 columns]",
      "text/html": "<div>\n<style scoped>\n    .dataframe tbody tr th:only-of-type {\n        vertical-align: middle;\n    }\n\n    .dataframe tbody tr th {\n        vertical-align: top;\n    }\n\n    .dataframe thead th {\n        text-align: right;\n    }\n</style>\n<table border=\"1\" class=\"dataframe\">\n  <thead>\n    <tr style=\"text-align: right;\">\n      <th></th>\n      <th>StudyInstanceUID</th>\n      <th>NGT - Incompletely Imaged</th>\n      <th>Swan Ganz Catheter Present</th>\n      <th>PatientID</th>\n      <th>ETT</th>\n      <th>NGT</th>\n      <th>CVC</th>\n    </tr>\n  </thead>\n  <tbody>\n    <tr>\n      <th>743</th>\n      <td>1.2.826.0.1.3680043.8.498.24155572423697245566...</td>\n      <td>0</td>\n      <td>0</td>\n      <td>cff5ff654</td>\n      <td>0</td>\n      <td>0</td>\n      <td>1</td>\n    </tr>\n    <tr>\n      <th>2172</th>\n      <td>1.2.826.0.1.3680043.8.498.22631318552754262661...</td>\n      <td>0</td>\n      <td>0</td>\n      <td>cff5ff654</td>\n      <td>0</td>\n      <td>0</td>\n      <td>1</td>\n    </tr>\n    <tr>\n      <th>2241</th>\n      <td>1.2.826.0.1.3680043.8.498.83882425057138002609...</td>\n      <td>0</td>\n      <td>0</td>\n      <td>cff5ff654</td>\n      <td>0</td>\n      <td>0</td>\n      <td>1</td>\n    </tr>\n    <tr>\n      <th>2462</th>\n      <td>1.2.826.0.1.3680043.8.498.13066921518260019214...</td>\n      <td>0</td>\n      <td>0</td>\n      <td>cff5ff654</td>\n      <td>0</td>\n      <td>0</td>\n      <td>1</td>\n    </tr>\n    <tr>\n      <th>3687</th>\n      <td>1.2.826.0.1.3680043.8.498.54838912855754621411...</td>\n      <td>0</td>\n      <td>0</td>\n      <td>cff5ff654</td>\n      <td>0</td>\n      <td>0</td>\n      <td>1</td>\n    </tr>\n    <tr>\n      <th>...</th>\n      <td>...</td>\n      <td>...</td>\n      <td>...</td>\n      <td>...</td>\n      <td>...</td>\n      <td>...</td>\n      <td>...</td>\n    </tr>\n    <tr>\n      <th>23385</th>\n      <td>1.2.826.0.1.3680043.8.498.73921173851725323518...</td>\n      <td>0</td>\n      <td>0</td>\n      <td>ffee0f183</td>\n      <td>0</td>\n      <td>0</td>\n      <td>1</td>\n    </tr>\n    <tr>\n      <th>26291</th>\n      <td>1.2.826.0.1.3680043.8.498.48291460626806076317...</td>\n      <td>0</td>\n      <td>0</td>\n      <td>ffee0f183</td>\n      <td>0</td>\n      <td>0</td>\n      <td>1</td>\n    </tr>\n    <tr>\n      <th>26540</th>\n      <td>1.2.826.0.1.3680043.8.498.21041613165722429783...</td>\n      <td>0</td>\n      <td>0</td>\n      <td>ffee0f183</td>\n      <td>0</td>\n      <td>1</td>\n      <td>1</td>\n    </tr>\n    <tr>\n      <th>28032</th>\n      <td>1.2.826.0.1.3680043.8.498.32497922793039429824...</td>\n      <td>0</td>\n      <td>0</td>\n      <td>ffee0f183</td>\n      <td>0</td>\n      <td>1</td>\n      <td>1</td>\n    </tr>\n    <tr>\n      <th>28903</th>\n      <td>1.2.826.0.1.3680043.8.498.11582767971938057384...</td>\n      <td>0</td>\n      <td>0</td>\n      <td>ffee0f183</td>\n      <td>0</td>\n      <td>1</td>\n      <td>1</td>\n    </tr>\n  </tbody>\n</table>\n<p>5983 rows × 7 columns</p>\n</div>"
     },
     "execution_count": 39,
     "metadata": {},
     "output_type": "execute_result"
    }
   ],
   "source": [
    "test_set = pd.DataFrame()\n",
    "for value in test_data:\n",
    "    temp_df = data[data['PatientID'] == value]\n",
    "    test_set = pd.concat([test_set, temp_df])\n",
    "test_set"
   ],
   "metadata": {
    "collapsed": false
   }
  },
  {
   "cell_type": "code",
   "execution_count": 40,
   "outputs": [],
   "source": [
    "train_set.to_csv('data_train.csv')"
   ],
   "metadata": {
    "collapsed": false
   }
  },
  {
   "cell_type": "code",
   "execution_count": 41,
   "outputs": [],
   "source": [
    "test_set.to_csv('data_test.csv')"
   ],
   "metadata": {
    "collapsed": false
   }
  },
  {
   "cell_type": "code",
   "execution_count": 15,
   "outputs": [],
   "source": [
    "##histograma , cate 0 cate 1 pt fiecare label"
   ],
   "metadata": {
    "collapsed": false
   }
  },
  {
   "cell_type": "code",
   "execution_count": 15,
   "outputs": [],
   "source": [],
   "metadata": {
    "collapsed": false
   }
  },
  {
   "cell_type": "code",
   "execution_count": null,
   "outputs": [],
   "source": [],
   "metadata": {
    "collapsed": false
   }
  }
 ],
 "metadata": {
  "kernelspec": {
   "display_name": "Python 3",
   "language": "python",
   "name": "python3"
  },
  "language_info": {
   "codemirror_mode": {
    "name": "ipython",
    "version": 2
   },
   "file_extension": ".py",
   "mimetype": "text/x-python",
   "name": "python",
   "nbconvert_exporter": "python",
   "pygments_lexer": "ipython2",
   "version": "2.7.6"
  }
 },
 "nbformat": 4,
 "nbformat_minor": 0
}
